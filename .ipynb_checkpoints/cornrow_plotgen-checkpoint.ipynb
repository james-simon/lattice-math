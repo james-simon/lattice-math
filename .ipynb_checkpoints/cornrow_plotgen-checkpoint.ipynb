{
 "cells": [
  {
   "cell_type": "code",
   "execution_count": 1,
   "metadata": {},
   "outputs": [
    {
     "name": "stdout",
     "output_type": "stream",
     "text": [
      "631.0007923438926\n"
     ]
    }
   ],
   "source": [
    "import imageio\n",
    "import matplotlib.pyplot as plt\n",
    "import numpy as np\n",
    "import cornrows"
   ]
  },
  {
   "cell_type": "code",
   "execution_count": 2,
   "metadata": {},
   "outputs": [],
   "source": [
    "def rcsetup():\n",
    "    plt.rc(\"figure\", dpi=120, facecolor=(1, 1, 1))\n",
    "    plt.rc(\"font\", family='stixgeneral', size=15)\n",
    "    plt.rc(\"axes\", titlesize=19)\n",
    "    plt.rc(\"axes\", facecolor=(1, 1, 1))\n",
    "    plt.rc(\"mathtext\", fontset='cm')\n",
    "\n",
    "rcsetup()"
   ]
  },
  {
   "cell_type": "code",
   "execution_count": 3,
   "metadata": {},
   "outputs": [],
   "source": [
    "def truncate_to_sigfigs(number, k):\n",
    "    if number == 0:\n",
    "        return 0.0\n",
    "    else:\n",
    "        # Calculate the factor to multiply and divide by\n",
    "        factor = 10 ** (np.ceil(np.log10(number)) - 2)\n",
    "        \n",
    "        # Truncate the number by converting to integer and back\n",
    "        truncated_number = int(number / factor) * factor\n",
    "        \n",
    "        return truncated_number"
   ]
  },
  {
   "cell_type": "code",
   "execution_count": null,
   "metadata": {},
   "outputs": [],
   "source": [
    "ds = [truncate_to_sigfigs(d, 2) for d in np.logspace(-.1, -2, num=50)]"
   ]
  },
  {
   "cell_type": "code",
   "execution_count": null,
   "metadata": {},
   "outputs": [],
   "source": [
    "def generate_plot(d, idx, theta_min=-np.pi/2, theta_max=np.pi/2):\n",
    "    thetas = np.linspace(theta_min, theta_max, num=1001)\n",
    "    max_rectangle_lengths = np.array([cornrows.max_length(d, theta) for theta in thetas])\n",
    "    \n",
    "    fig, ax = plt.subplots(figsize=(6,4))\n",
    "    ax.plot(thetas, max_rectangle_lengths, color=(0,0,.5))\n",
    "    ax.set_ylim(1,1000)\n",
    "    ax.set_yscale('log')\n",
    "    ax.set_title(f'd = {d:.5g}')\n",
    "    plt.savefig(f'cornrow_plots/frame_{idx}.png')\n",
    "    \n",
    "    return ax"
   ]
  },
  {
   "cell_type": "code",
   "execution_count": null,
   "metadata": {},
   "outputs": [],
   "source": [
    "generate_plot(.08, 0, theta_min=.5, theta_max=.6)"
   ]
  },
  {
   "cell_type": "code",
   "execution_count": null,
   "metadata": {
    "pycharm": {
     "name": "#%%\n"
    }
   },
   "outputs": [],
   "source": [
    "[generate_plot(d, idx, theta_min=.5, theta_max=.6) for idx, d in enumerate(ds)]"
   ]
  },
  {
   "cell_type": "code",
   "execution_count": null,
   "metadata": {},
   "outputs": [],
   "source": [
    "# Create a GIF\n",
    "images = []\n",
    "for idx in range(len(ds)):\n",
    "    images.append(imageio.imread(f'cornrow_plots/frame_{idx}.png'))\n",
    "imageio.mimsave('cornrow_plots/animated_plot.gif', images, fps=5)\n",
    "\n",
    "# Cleanup: Remove individual plot images to save space\n",
    "import os\n",
    "for idx in range(len(ds)):\n",
    "    os.remove(f'cornrow_plots/frame_{idx}.png')"
   ]
  },
  {
   "cell_type": "code",
   "execution_count": null,
   "metadata": {},
   "outputs": [],
   "source": [
    "import matplotlib.pyplot as plt\n",
    "import numpy as np\n",
    "from matplotlib.patches import Circle\n",
    "\n",
    "\n",
    "d = .8\n",
    "thetas = np.linspace(-np.pi / 2, np.pi / 2, num=2001)\n",
    "max_rectangle_lengths = np.array([cornrows.max_length(d, theta) for theta in thetas])\n",
    "\n",
    "# Create a polar subplot\n",
    "fig, ax = plt.subplots(subplot_kw={'projection': 'polar'})\n",
    "\n",
    "# Plot the data\n",
    "ax.plot(thetas, max_rectangle_lengths, color=(0,0,0), lw=1)  # You can customize the plot with different markers or lines\n",
    "\n",
    "# add grid\n",
    "xx, yy = np.meshgrid(np.arange(-10,11), np.arange(-10,11))\n",
    "ax.scatter(np.arctan2(yy, xx), (xx ** 2 + yy ** 2) ** .5, color=(0,.3,0,.3), s=(4.5 * d) ** 2)\n",
    "ax.scatter(0, 0, color=(1,0,0), s=6**2)\n",
    "\n",
    "# Customize the plot\n",
    "ax.set_rmax(20)  # Set the maximum radial limit\n",
    "ax.set_rticks([])  # Set the radial ticks\n",
    "ax.set_thetagrids([])\n",
    "ax.set_rlabel_position(-22.5)  # Position of radial labels\n",
    "\n",
    "# Show the plot\n",
    "plt.show()"
   ]
  },
  {
   "cell_type": "code",
   "execution_count": null,
   "metadata": {},
   "outputs": [],
   "source": [
    "np.arange(-10,11)"
   ]
  },
  {
   "cell_type": "code",
   "execution_count": null,
   "metadata": {},
   "outputs": [],
   "source": []
  }
 ],
 "metadata": {
  "kernelspec": {
   "display_name": "Python 3",
   "language": "python",
   "name": "python3"
  },
  "language_info": {
   "codemirror_mode": {
    "name": "ipython",
    "version": 3
   },
   "file_extension": ".py",
   "mimetype": "text/x-python",
   "name": "python",
   "nbconvert_exporter": "python",
   "pygments_lexer": "ipython3",
   "version": "3.8.8"
  }
 },
 "nbformat": 4,
 "nbformat_minor": 1
}
